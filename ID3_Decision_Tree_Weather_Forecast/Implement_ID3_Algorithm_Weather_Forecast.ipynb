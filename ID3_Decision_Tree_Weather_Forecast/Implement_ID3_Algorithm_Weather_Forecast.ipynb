{
  "nbformat": 4,
  "nbformat_minor": 0,
  "metadata": {
    "colab": {
      "provenance": []
    },
    "kernelspec": {
      "name": "python3",
      "display_name": "Python 3"
    },
    "language_info": {
      "name": "python"
    }
  },
  "cells": [
    {
      "cell_type": "code",
      "execution_count": 1,
      "metadata": {
        "colab": {
          "base_uri": "https://localhost:8080/"
        },
        "id": "E9F3gWzOZbFe",
        "outputId": "bf419676-94b2-4da0-b821-89cb50fc5f4f"
      },
      "outputs": [
        {
          "output_type": "stream",
          "name": "stdout",
          "text": [
            "Mounted at /content/drive\n"
          ]
        }
      ],
      "source": [
        "# Mounting Google Drive\n",
        "from google.colab import drive\n",
        "drive.mount('/content/drive')"
      ]
    },
    {
      "cell_type": "code",
      "source": [
        "# Importing required libraries\n",
        "import pandas as pd\n",
        "import math\n",
        "import numpy as np\n",
        "\n",
        "# Definition of Node class for decision tree representation\n",
        "class Node:\n",
        "    def __init__(self):\n",
        "        self.children = []\n",
        "        self.value = \"\"\n",
        "        self.isLeaf = False\n",
        "        self.pred = \"\"\n",
        "\n",
        "# Reading the dataset from a CSV file\n",
        "data = pd.read_csv(\"/content/drive/MyDrive/weather_forecast.csv\")"
      ],
      "metadata": {
        "id": "KFgr6b4XZx2T"
      },
      "execution_count": 2,
      "outputs": []
    },
    {
      "cell_type": "code",
      "source": [
        "# Extracting features/column names from the dataset\n",
        "features = [feat for feat in data]\n",
        "print(data, features)"
      ],
      "metadata": {
        "colab": {
          "base_uri": "https://localhost:8080/"
        },
        "id": "-cTmo60GZzut",
        "outputId": "91afd2ec-1894-4c1b-9a00-6bccee76efba"
      },
      "execution_count": 3,
      "outputs": [
        {
          "output_type": "stream",
          "name": "stdout",
          "text": [
            "     Outlook Temperature Humidity   Windy Play\n",
            "0      Sunny         Hot     High    Weak   No\n",
            "1      Sunny         Hot     High  Strong   No\n",
            "2   Overcast         Hot     High    Weak  Yes\n",
            "3       Rain        Mild     High    Weak  Yes\n",
            "4       Rain        Cool   Normal    Weak  Yes\n",
            "5       Rain        Cool   Normal  Strong   No\n",
            "6   Overcast        Cool   Normal  Strong  Yes\n",
            "7      Sunny        Mild     High    Weak   No\n",
            "8      Sunny        Cool   Normal    Weak  Yes\n",
            "9       Rain        Mild   Normal    Weak  Yes\n",
            "10     Sunny        Mild   Normal  Strong  Yes\n",
            "11  Overcast        Mild     High  Strong  Yes\n",
            "12  Overcast         Hot   Normal    Weak  Yes\n",
            "13      Rain        Mild     High  Strong   No ['Outlook', 'Temperature', 'Humidity', 'Windy', 'Play']\n"
          ]
        }
      ]
    },
    {
      "cell_type": "code",
      "source": [
        "# Removing the \"answer\" column from the list of features\n",
        "features.remove(\"Play\")\n",
        "print(features)"
      ],
      "metadata": {
        "colab": {
          "base_uri": "https://localhost:8080/"
        },
        "id": "cxSvhJLOZzwz",
        "outputId": "6776526c-18eb-448c-f7b7-db2c476239ba"
      },
      "execution_count": 4,
      "outputs": [
        {
          "output_type": "stream",
          "name": "stdout",
          "text": [
            "['Outlook', 'Temperature', 'Humidity', 'Windy']\n"
          ]
        }
      ]
    },
    {
      "cell_type": "code",
      "source": [
        "# Function to calculate entropy\n",
        "def entropy(examples):\n",
        "    pos = 0.0\n",
        "    neg = 0.0\n",
        "    for _, row in examples.iterrows():\n",
        "        if row[\"Play\"] == \"Yes\":\n",
        "            pos += 1\n",
        "        else:\n",
        "            neg += 1\n",
        "    if pos == 0.0 or neg == 0.0:\n",
        "        return 0.0\n",
        "    else:\n",
        "        p = pos / (pos + neg)\n",
        "        n = neg / (pos + neg)\n",
        "        return -(p * math.log(p, 2) + n * math.log(n, 2))"
      ],
      "metadata": {
        "id": "nNZd-uJkZzzb"
      },
      "execution_count": 5,
      "outputs": []
    },
    {
      "cell_type": "code",
      "source": [
        "# Function to calculate information gain\n",
        "def info_gain(examples, attr):\n",
        "    uniq = np.unique(examples[attr])\n",
        "    gain = entropy(examples)\n",
        "    for u in uniq:\n",
        "        subdata = examples[examples[attr] == u]\n",
        "        sub_e = entropy(subdata)\n",
        "        gain -= (float(len(subdata)) / float(len(examples))) * sub_e\n",
        "    return gain"
      ],
      "metadata": {
        "id": "ZRHPJc70Zz2o"
      },
      "execution_count": 6,
      "outputs": []
    },
    {
      "cell_type": "code",
      "source": [
        "# Calculating entropy for the entire dataset\n",
        "entropy(data)\n",
        "\n",
        "# Calculating information gain for each feature\n",
        "info_gain(data, features)"
      ],
      "metadata": {
        "colab": {
          "base_uri": "https://localhost:8080/"
        },
        "id": "0_zz3DTIZz5n",
        "outputId": "eae7cdf6-dac7-4fd1-deef-b54d2f06c385"
      },
      "execution_count": 7,
      "outputs": [
        {
          "output_type": "execute_result",
          "data": {
            "text/plain": [
              "0.9402859586706309"
            ]
          },
          "metadata": {},
          "execution_count": 7
        }
      ]
    },
    {
      "cell_type": "code",
      "source": [
        "# Function to implement the ID3 algorithm\n",
        "def ID3(examples, attrs):\n",
        "    root = Node()\n",
        "    max_gain = 0\n",
        "    max_feat = \"\"\n",
        "    for feature in attrs:\n",
        "        gain = info_gain(examples, feature)\n",
        "        if gain > max_gain:\n",
        "            max_gain = gain\n",
        "            max_feat = feature\n",
        "    root.value = max_feat\n",
        "    uniq = np.unique(examples[max_feat])\n",
        "    for u in uniq:\n",
        "        subdata = examples[examples[max_feat] == u]\n",
        "        if entropy(subdata) == 0.0:\n",
        "            newNode = Node()\n",
        "            newNode.isLeaf = True\n",
        "            newNode.value = u\n",
        "            newNode.pred = np.unique(subdata[\"Play\"])\n",
        "            root.children.append(newNode)\n",
        "        else:\n",
        "            dummyNode = Node()\n",
        "            dummyNode.value = u\n",
        "            new_attrs = attrs.copy()\n",
        "            new_attrs.remove(max_feat)\n",
        "            child = ID3(subdata, new_attrs)\n",
        "            dummyNode.children.append(child)\n",
        "            root.children.append(dummyNode)\n",
        "    return root"
      ],
      "metadata": {
        "id": "vtqe3deiZz86"
      },
      "execution_count": 11,
      "outputs": []
    },
    {
      "cell_type": "code",
      "source": [
        "# Function to print the decision tree\n",
        "def printTree(root: Node, depth=0):\n",
        "    for i in range(depth):\n",
        "        print(\"\\t\", end=\"\")\n",
        "    print(root.value, end=\"\")\n",
        "    if root.isLeaf:\n",
        "        print(\" -> \", root.pred)\n",
        "    print()\n",
        "    for child in root.children:\n",
        "        printTree(child, depth + 1)"
      ],
      "metadata": {
        "id": "HRZkgSE2Zz_7"
      },
      "execution_count": 12,
      "outputs": []
    },
    {
      "cell_type": "code",
      "source": [
        "# Building the decision tree using ID3 algorithm\n",
        "root = ID3(data, features)"
      ],
      "metadata": {
        "id": "YeflacxYZ_tn"
      },
      "execution_count": 13,
      "outputs": []
    },
    {
      "cell_type": "code",
      "source": [
        "# Printing the decision tree\n",
        "printTree(root)"
      ],
      "metadata": {
        "colab": {
          "base_uri": "https://localhost:8080/"
        },
        "id": "SfOl1PykZ_w8",
        "outputId": "84c9cd11-7a2e-496f-d2d3-3e0266c22d59"
      },
      "execution_count": 14,
      "outputs": [
        {
          "output_type": "stream",
          "name": "stdout",
          "text": [
            "Outlook\n",
            "\tOvercast ->  ['Yes']\n",
            "\n",
            "\tRain\n",
            "\t\tWindy\n",
            "\t\t\tStrong ->  ['No']\n",
            "\n",
            "\t\t\tWeak ->  ['Yes']\n",
            "\n",
            "\tSunny\n",
            "\t\tHumidity\n",
            "\t\t\tHigh ->  ['No']\n",
            "\n",
            "\t\t\tNormal ->  ['Yes']\n",
            "\n"
          ]
        }
      ]
    }
  ]
}